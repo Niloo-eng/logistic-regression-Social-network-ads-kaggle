{
 "cells": [
  {
   "cell_type": "code",
   "execution_count": 1,
   "metadata": {},
   "outputs": [],
   "source": [
    "import numpy as np\n",
    "import matplotlib.pyplot as plt\n",
    "import pandas as pd\n",
    "import math"
   ]
  },
  {
   "cell_type": "code",
   "execution_count": 14,
   "metadata": {
    "scrolled": false
   },
   "outputs": [
    {
     "name": "stdout",
     "output_type": "stream",
     "text": [
      "     Age  EstimatedSalary  Male\n",
      "0     19            19000     1\n",
      "1     35            20000     1\n",
      "2     26            43000     0\n",
      "3     27            57000     0\n",
      "4     19            76000     1\n",
      "..   ...              ...   ...\n",
      "395   46            41000     0\n",
      "396   51            23000     1\n",
      "397   50            20000     0\n",
      "398   36            33000     1\n",
      "399   49            36000     0\n",
      "\n",
      "[400 rows x 3 columns]\n",
      "X shape =  (400, 4) \n",
      " y shape =  (400,)\n"
     ]
    }
   ],
   "source": [
    "#load data\n",
    "PATH = \"D:/New folder/\"\n",
    "data = pd.read_csv(PATH + 'datasets_7812_11044_Social_Network_Ads.csv')\n",
    "#print(data.head)\n",
    "Gender = pd.get_dummies(data['Gender'], drop_first= True)\n",
    "df = pd.concat([data, Gender], axis=1)\n",
    "\n",
    "# x,y = data.loc[:, ['Age', 'EstimatedSalary']].values,data.loc[:, 'Purchased'].values\n",
    "x = df.drop(['User ID', 'Gender', 'Purchased'], axis=1)\n",
    "y = df['Purchased']\n",
    "print(x)\n",
    "X = np.concatenate((np.ones((400,1)), x), axis = 1) #add column one\n",
    "print('X shape = ', X.shape ,'\\n', 'y shape = ', y.shape)\n"
   ]
  },
  {
   "cell_type": "code",
   "execution_count": 15,
   "metadata": {},
   "outputs": [],
   "source": [
    "def sigmoid(x):\n",
    "    s=1/(1+np.exp(-x))\n",
    "    return s"
   ]
  },
  {
   "cell_type": "code",
   "execution_count": 16,
   "metadata": {},
   "outputs": [],
   "source": [
    "theta=np.random.randn(1,4)\n",
    "\n",
    "def j(theta,X, y):\n",
    "    m = y.size\n",
    "    h = sigmoid(X@theta)\n",
    "#     print(m)\n",
    "#     print(sigmoid(X @ theta))\n",
    "#     print('++++++++++++++++++++++')\n",
    "#     print((np.log(h).T))\n",
    "#     print('++++++++++++++++++++++')\n",
    "#     print((y))\n",
    "#     print((np.log(1-h).T))\n",
    "#     print((1-y))\n",
    "    \n",
    "    return (-1*(1/m)*(np.log(h)@y+np.log(1-h).T@(1-y)))\n",
    "    \n",
    "#print(j(theta,X, y))\n"
   ]
  },
  {
   "cell_type": "code",
   "execution_count": 17,
   "metadata": {},
   "outputs": [],
   "source": [
    "def grads(theta, X, y):\n",
    "    m = y.size\n",
    "    h = sigmoid(X@theta)\n",
    "    return ((1/m)*X.T@(h-y))"
   ]
  },
  {
   "cell_type": "code",
   "execution_count": 41,
   "metadata": {},
   "outputs": [
    {
     "name": "stderr",
     "output_type": "stream",
     "text": [
      "<ipython-input-15-c17cccd2ec75>:2: RuntimeWarning: overflow encountered in exp\n",
      "  s=1/(1+np.exp(-x))\n",
      "<ipython-input-16-7d0c7cf5161a>:15: RuntimeWarning: divide by zero encountered in log\n",
      "  return (-1*(1/m)*(np.log(h)@y+np.log(1-h).T@(1-y)))\n"
     ]
    }
   ],
   "source": [
    "#advanced optimization\n",
    "from scipy.optimize import minimize\n",
    "\n",
    "result = minimize(j, x0=np.zeros((4,)), args=(X, y), method='BFGS', jac=grads)"
   ]
  },
  {
   "cell_type": "code",
   "execution_count": 42,
   "metadata": {},
   "outputs": [
    {
     "data": {
      "text/plain": [
       "      fun: 0.3448040317199037\n",
       " hess_inv: array([[ 7.42066927e+02, -1.37464092e+01, -2.14259544e-03,\n",
       "        -4.54676615e+01],\n",
       "       [-1.37464092e+01,  2.78525023e-01,  3.10600721e-05,\n",
       "         5.05828272e-01],\n",
       "       [-2.14259544e-03,  3.10600721e-05,  1.17244769e-08,\n",
       "         8.21049093e-05],\n",
       "       [-4.54676615e+01,  5.05828272e-01,  8.21049093e-05,\n",
       "         3.69443583e+01]])\n",
       "      jac: array([-5.85669360e-12, -1.46718859e-10, -1.01569105e-06, -1.85941041e-12])\n",
       "  message: 'Optimization terminated successfully.'\n",
       "     nfev: 39\n",
       "      nit: 25\n",
       "     njev: 39\n",
       "   status: 0\n",
       "  success: True\n",
       "        x: array([-1.27836341e+01,  2.36969401e-01,  3.64411904e-05,  3.33843388e-01])"
      ]
     },
     "execution_count": 42,
     "metadata": {},
     "output_type": "execute_result"
    }
   ],
   "source": [
    "result"
   ]
  },
  {
   "cell_type": "code",
   "execution_count": 43,
   "metadata": {},
   "outputs": [
    {
     "name": "stdout",
     "output_type": "stream",
     "text": [
      "[-1.27836341e+01  2.36969401e-01  3.64411904e-05  3.33843388e-01]\n"
     ]
    }
   ],
   "source": [
    "theta_opt = result.x  # optimal theta\n",
    "print(theta_opt)"
   ]
  }
 ],
 "metadata": {
  "kernelspec": {
   "display_name": "Python 3",
   "language": "python",
   "name": "python3"
  },
  "language_info": {
   "codemirror_mode": {
    "name": "ipython",
    "version": 3
   },
   "file_extension": ".py",
   "mimetype": "text/x-python",
   "name": "python",
   "nbconvert_exporter": "python",
   "pygments_lexer": "ipython3",
   "version": "3.6.10"
  }
 },
 "nbformat": 4,
 "nbformat_minor": 4
}
